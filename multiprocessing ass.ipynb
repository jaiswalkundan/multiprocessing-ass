{
 "cells": [
  {
   "cell_type": "code",
   "execution_count": null,
   "id": "8ba4a3bd-4daa-4493-a994-e81e43234bf7",
   "metadata": {},
   "outputs": [],
   "source": [
    "Q1. What is multiprocessing in python? Why is it useful?"
   ]
  },
  {
   "cell_type": "markdown",
   "id": "b054bdf5-b9bd-4496-9d34-b8fda3bf4231",
   "metadata": {},
   "source": [
    "multiprocessing in python involves running multiple processes simultaneously to improve performance and simultaneousl\n",
    "to improve performance and utilize ulticore processors it allows parellel execution of tasks,enabling better utilization of resources and faster execution of programs."
   ]
  },
  {
   "cell_type": "code",
   "execution_count": null,
   "id": "ced41e9e-7170-45d0-9c09-615a69646b3c",
   "metadata": {},
   "outputs": [],
   "source": [
    "Q2. What are the differences between multiprocessing and multithreading?"
   ]
  },
  {
   "cell_type": "markdown",
   "id": "215a1b7d-3816-4131-a887-11fa79779337",
   "metadata": {},
   "source": [
    "Involves running multiple independent processes each with its own memory space and python interpreter.\n",
    "2.processes are isolated and communication between them usally involves inter-process communction(ipc)\n",
    "multithreading: threads share the same memory space making communication easier but requiring careful synchronization to avoid data conflicts\n",
    "2. involves multiple threads within the same process sharing the same memory space and python interpreter."
   ]
  },
  {
   "cell_type": "code",
   "execution_count": null,
   "id": "b837d5a3-553d-4c5f-8e39-9296a7b76c0d",
   "metadata": {},
   "outputs": [],
   "source": [
    "Q3. Write a python code to create a process using the multiprocessing module."
   ]
  },
  {
   "cell_type": "code",
   "execution_count": 1,
   "id": "8a09aea6-4f10-414b-8ae2-9fc26c497984",
   "metadata": {},
   "outputs": [
    {
     "name": "stdout",
     "output_type": "stream",
     "text": [
      "This is a process!\n",
      "Main process continues...\n"
     ]
    }
   ],
   "source": [
    "import multiprocessing\n",
    "\n",
    "def my_function():\n",
    "    print(\"This is a process!\")\n",
    "    \n",
    "if __name__ == \"__main__\":\n",
    "    my_process = multiprocessing.Process(target=my_function)\n",
    "    my_process.start()\n",
    "    my_process.join()\n",
    "    print(\"Main process continues...\")"
   ]
  },
  {
   "cell_type": "code",
   "execution_count": null,
   "id": "928e148e-d734-4d3d-afa8-ddf4583f03da",
   "metadata": {},
   "outputs": [],
   "source": [
    "Q4. What is a multiprocessing pool in python? Why is it used?"
   ]
  },
  {
   "cell_type": "code",
   "execution_count": 2,
   "id": "cb5dfa53-792b-4446-9c15-2b5a8dbeca51",
   "metadata": {},
   "outputs": [
    {
     "name": "stdout",
     "output_type": "stream",
     "text": [
      "Results: [1, 4, 9, 16, 25]\n"
     ]
    }
   ],
   "source": [
    "import multiprocessing\n",
    "\n",
    "def square_number(x):\n",
    "    return x*x\n",
    "if __name__ == \"__main__\" :\n",
    "    with multiprocessing.Pool(processes=3)as pool:\n",
    "        input_data=[1,2,3,4,5]\n",
    "        results=pool.map(square_number, input_data)\n",
    "    print(\"Results:\", results)   \n"
   ]
  },
  {
   "cell_type": "code",
   "execution_count": null,
   "id": "038a3f01-9d90-4f9e-a49a-5451d6163ba0",
   "metadata": {},
   "outputs": [],
   "source": [
    "Q5. How can we create a pool of worker processes in python using the multiprocessing module?"
   ]
  },
  {
   "cell_type": "code",
   "execution_count": 5,
   "id": "36b62291-f114-4611-badd-e1e476f3cb17",
   "metadata": {},
   "outputs": [
    {
     "name": "stdout",
     "output_type": "stream",
     "text": [
      "[1, 4, 9, 16, 25]\n"
     ]
    }
   ],
   "source": [
    "from multiprocessing import Pool\n",
    "\n",
    "def worker_function(x):\n",
    "    return x*x\n",
    "\n",
    "if __name__ == \"__main__\" :\n",
    "    num_processes = 4 \n",
    "    with Pool(num_processes) as pool:\n",
    "        tasks=[1,2,3,4,5]\n",
    "        results = pool.map(worker_function, tasks)\n",
    "    print(results)    "
   ]
  },
  {
   "cell_type": "code",
   "execution_count": null,
   "id": "8973fa6d-6ca7-4b7c-9ff6-a467328e2ff8",
   "metadata": {},
   "outputs": [],
   "source": [
    "Q6. Write a python program to create 4 processes, each process should print a different number using the\n",
    "multiprocessing module in python."
   ]
  },
  {
   "cell_type": "code",
   "execution_count": 9,
   "id": "36ba2d79-817c-421e-be31-87c6d590e429",
   "metadata": {},
   "outputs": [
    {
     "ename": "NameError",
     "evalue": "name 'num_Processes' is not defined",
     "output_type": "error",
     "traceback": [
      "\u001b[0;31m---------------------------------------------------------------------------\u001b[0m",
      "\u001b[0;31mNameError\u001b[0m                                 Traceback (most recent call last)",
      "Cell \u001b[0;32mIn[9], line 9\u001b[0m\n\u001b[1;32m      7\u001b[0m num_processes \u001b[38;5;241m=\u001b[39m \u001b[38;5;241m4\u001b[39m\n\u001b[1;32m      8\u001b[0m numbers\u001b[38;5;241m=\u001b[39m[\u001b[38;5;241m1\u001b[39m,\u001b[38;5;241m2\u001b[39m,\u001b[38;5;241m3\u001b[39m,\u001b[38;5;241m4\u001b[39m]\n\u001b[0;32m----> 9\u001b[0m \u001b[38;5;28;01mwith\u001b[39;00m multiprocessing\u001b[38;5;241m.\u001b[39mPool(\u001b[43mnum_Processes\u001b[49m) \u001b[38;5;28;01mas\u001b[39;00m pool:\n\u001b[1;32m     10\u001b[0m     pool\u001b[38;5;241m.\u001b[39mmap(print_number,numbers)\n",
      "\u001b[0;31mNameError\u001b[0m: name 'num_Processes' is not defined"
     ]
    }
   ],
   "source": [
    "import multiprocessing\n",
    "\n",
    "def print_number(number):\n",
    "    print(f\"Process {multiprocessing.current_process().name} prints:{number}\")\n",
    "    \n",
    "if __name__ == \"__main__\":\n",
    "    num_processes = 4\n",
    "    numbers=[1,2,3,4]\n",
    "    with multiprocessing.Pool(num_Processes) as pool:\n",
    "        pool.map(print_number,numbers)"
   ]
  },
  {
   "cell_type": "code",
   "execution_count": null,
   "id": "8205400b-e215-4cfc-8611-1b45c6dfdd77",
   "metadata": {},
   "outputs": [],
   "source": [
    "import multiprocessing\n",
    "\n",
    "def print_number(number):\n",
    "    print(f\"Process {multiprocessing.current_process().name} prints: {number}\")\n",
    "    \n",
    "if __name__==\"__main__\" :\n",
    "    processes=[]\n",
    "    \n",
    "    for i in range(1,5):\n",
    "        process=multiprocessing.Process(target=print_number,args=(i,))\n",
    "        processes.append(process)\n",
    "        process.start()\n",
    "    for process in processes:\n",
    "        process.join()"
   ]
  },
  {
   "cell_type": "code",
   "execution_count": null,
   "id": "1a656a0f-4020-4e63-ad3c-57fca1b48250",
   "metadata": {},
   "outputs": [],
   "source": []
  },
  {
   "cell_type": "code",
   "execution_count": null,
   "id": "98dad4c2-5f87-44fa-bbed-22d4926aecef",
   "metadata": {},
   "outputs": [],
   "source": []
  }
 ],
 "metadata": {
  "kernelspec": {
   "display_name": "Python 3 (ipykernel)",
   "language": "python",
   "name": "python3"
  },
  "language_info": {
   "codemirror_mode": {
    "name": "ipython",
    "version": 3
   },
   "file_extension": ".py",
   "mimetype": "text/x-python",
   "name": "python",
   "nbconvert_exporter": "python",
   "pygments_lexer": "ipython3",
   "version": "3.10.8"
  }
 },
 "nbformat": 4,
 "nbformat_minor": 5
}
